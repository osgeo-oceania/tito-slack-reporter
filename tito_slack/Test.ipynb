{
 "cells": [
  {
   "cell_type": "code",
   "execution_count": 6,
   "metadata": {},
   "outputs": [
    {
     "name": "stdout",
     "output_type": "stream",
     "text": [
      "{'_type': 'activity', 'id': 1069080, 'capacity': None, 'date': '2024-11-06', 'description': 'Main conference day 1', 'kind': 'public_automatic', 'start_time': '09:00', 'end_time': '17:00', 'start_at': '2024-11-06T09:00:00.000+11:00', 'end_at': '2024-11-06T17:00:00.000+11:00', 'name': 'Conference Day 1', 'allocation_count': 126, 'sold_out': False, 'any_live_chosen_tickets': None}\n",
      "{'_type': 'activity', 'id': 1069082, 'capacity': None, 'date': '2024-11-07', 'description': 'Main conference day 2', 'kind': 'public_automatic', 'start_time': '09:00', 'end_time': '17:00', 'start_at': '2024-11-07T09:00:00.000+11:00', 'end_at': '2024-11-07T17:00:00.000+11:00', 'name': 'Conference Day 2', 'allocation_count': 126, 'sold_out': False, 'any_live_chosen_tickets': None}\n",
      "{'_type': 'activity', 'id': 1069079, 'capacity': 140, 'date': '2024-11-06', 'description': 'A celebration of Tasmanian food, and a short presentation by someone inspiring.\\n\\nVenue TBA.', 'kind': 'public_automatic', 'start_time': '18:30', 'end_time': '21:00', 'start_at': '2024-11-06T18:30:00.000+11:00', 'end_at': '2024-11-06T21:00:00.000+11:00', 'name': 'Conference Dinner', 'allocation_count': 91, 'sold_out': False, 'any_live_chosen_tickets': None}\n",
      "{'_type': 'activity', 'id': 1069081, 'capacity': None, 'date': '2024-11-05', 'description': 'Come along and meet some people and celebrate the start of our event. The icebreaker is at Deep South Brewing.', 'kind': 'public_automatic', 'start_time': '18:00', 'end_time': '21:00', 'start_at': '2024-11-05T18:00:00.000+11:00', 'end_at': '2024-11-05T21:00:00.000+11:00', 'name': 'Ice Breaker', 'allocation_count': 126, 'sold_out': False, 'any_live_chosen_tickets': None}\n",
      "{'_type': 'activity', 'id': 1069084, 'capacity': None, 'date': None, 'description': None, 'kind': 'public_automatic', 'start_time': None, 'end_time': None, 'start_at': None, 'end_at': None, 'name': 'T-Shirt', 'allocation_count': 25, 'sold_out': False, 'any_live_chosen_tickets': None}\n",
      "{'_type': 'activity', 'id': 1069085, 'capacity': 35, 'date': '2024-11-07', 'description': 'The breakfast will be at [Hamlet Cafe](<a href=\"https://www.hamlet.org.au/\">https://www.hamlet.org.au/</a>)', 'kind': 'public_automatic', 'start_time': '07:30', 'end_time': '08:30', 'start_at': '2024-11-07T07:30:00.000+11:00', 'end_at': '2024-11-07T08:30:00.000+11:00', 'name': 'Women in Geospatial Breakfast', 'allocation_count': 23, 'sold_out': False, 'any_live_chosen_tickets': None}\n",
      "{'Conference Day 1': 126, 'Conference Day 2': 126, 'Conference Dinner': 91, 'Ice Breaker': 126, 'T-Shirt': 25, 'Women in Geospatial Breakfast': 23}\n"
     ]
    }
   ],
   "source": [
    "from tito_slack import ACTIVITIES_URL\n",
    "import requests\n",
    "import os\n",
    "from typing import Generator\n",
    "\n",
    "key = \"secret_FAKE\"\n",
    "\n",
    "def get_tito_activities(\n",
    "    tito_key: str, account: str, event: str\n",
    ") -> Generator[dict, dict, dict]:\n",
    "    \"\"\"\n",
    "    Get a list of tickets from Tito\n",
    "    \"\"\"\n",
    "    url = ACTIVITIES_URL.format(account=account, event=event)\n",
    "\n",
    "    headers = {\"Authorization\": f\"Token token={tito_key}\"}\n",
    "\n",
    "    response = requests.get(url, headers=headers)\n",
    "    response.raise_for_status()\n",
    "    activities = response.json()\n",
    "\n",
    "    summary = {}\n",
    "    for activity in activities[\"activities\"]:\n",
    "        summary[activity[\"name\"]] = activity[\"allocation_count\"]\n",
    "\n",
    "    return summary\n",
    "\n",
    "activity_summary = get_tito_activities(tito_key=key, account=\"osgeo-oceania\", event=\"foss4g-sotm-oceania-2024\")"
   ]
  }
 ],
 "metadata": {
  "kernelspec": {
   "display_name": "Python 3",
   "language": "python",
   "name": "python3"
  },
  "language_info": {
   "codemirror_mode": {
    "name": "ipython",
    "version": 3
   },
   "file_extension": ".py",
   "mimetype": "text/x-python",
   "name": "python",
   "nbconvert_exporter": "python",
   "pygments_lexer": "ipython3",
   "version": "3.11.9"
  }
 },
 "nbformat": 4,
 "nbformat_minor": 2
}
